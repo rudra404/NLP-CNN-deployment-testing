{
 "cells": [
  {
   "attachments": {},
   "cell_type": "markdown",
   "id": "e53a68d9",
   "metadata": {},
   "source": [
    "After finding the best machine learning model, CNN, for emotion classification of the Go-emotions dataset, we were required to built a web service, using one of the choices under (A), to host the model as an endpoint. In this document some functionality is built to perform testing on the deployed endpoint."
   ]
  },
  {
   "attachments": {},
   "cell_type": "markdown",
   "id": "ccb3df51",
   "metadata": {},
   "source": [
    "## Designing the test functions"
   ]
  },
  {
   "attachments": {},
   "cell_type": "markdown",
   "id": "8e313781",
   "metadata": {},
   "source": [
    "Sample function, `retreive_sentiments`, in Python to consume the model endpoint. This function will take an input, convert it to the correct format, send it to the model endpoint using an HTTP request, and then process and return the response. The function uses the `requests` library to send the HTTP request.\n",
    "\n",
    "Here is the basic skeleton for the function:"
   ]
  },
  {
   "cell_type": "code",
   "execution_count": 1,
   "id": "8866d47f",
   "metadata": {},
   "outputs": [],
   "source": [
    "import json\n",
    "import requests\n",
    "import time\n",
    "\n",
    "def retreive_sentiments(data):\n",
    "    # Convert the input data to JSON format.\n",
    "    payload = json.dumps(data)  # Convert the list of comments to JSON format\n",
    "    \n",
    "    # Define the URL of the model endpoint.\n",
    "    url = \"http://127.0.0.1:5050/retreive_sentiments\"\n",
    "    \n",
    "    # Send the HTTP request to the model endpoint with the input data.\n",
    "    response = requests.post(url, json=payload)\n",
    "    \n",
    "    # Check if the request was successful.\n",
    "    if response.status_code == 200:\n",
    "        # If so, return the prediction from the model.\n",
    "        prediction = response.json()\n",
    "        return response.text\n",
    "    else:\n",
    "        # If not, print the response and raise an exception.\n",
    "        print(response.text)\n",
    "        response.raise_for_status()\n",
    "        "
   ]
  },
  {
   "attachments": {},
   "cell_type": "markdown",
   "id": "9b03e158",
   "metadata": {},
   "source": [
    "In this function, `data` should be the input to your model. This data needs to be converted to JSON format because that's the format the model endpoint expects.\n",
    "\n",
    "The `response` object contains the HTTP response from the model endpoint. If the request was successful, it will have a status code of 200, and the prediction from the model can be extracted with `response.json()`. If the request was not successful, an error message is printed and an exception is raised."
   ]
  },
  {
   "attachments": {},
   "cell_type": "markdown",
   "id": "d03818eb",
   "metadata": {},
   "source": [
    "## Average response time\n",
    "\n",
    "Helps assess the efficiency and performance of the deployed model. "
   ]
  },
  {
   "cell_type": "code",
   "execution_count": 2,
   "id": "45323eca",
   "metadata": {},
   "outputs": [],
   "source": [
    "testExamples = [\n",
    "    \"I truly appreciate your kindness and support.\",  # Gratitude, a bit longer\n",
    "    \"I truly appreciate your kindness and support.\",  # Gratitude, a bit longer\n",
    "    \"I truly appreciate your kindness and support.\",  # Gratitude, a bit longer\n",
    "    \"I truly appreciate your kindness and support.\",  # Gratitude, a bit longer\n",
    "    \"I truly appreciate your kindness and support.\",  # Gratitude, a bit longer\n",
    "    \"I truly appreciate your kindness and support.\",  # Gratitude, a bit longer\n",
    "    \"I truly appreciate your kindness and support.\",  # Gratitude, a bit longer\n",
    "    \"I truly appreciate your kindness and support.\",  # Gratitude, a bit longer\n",
    "    \"I truly appreciate your kindness and support.\",  # Gratitude, a bit longer\n",
    "    \"I truly appreciate your kindness and support.\",  # Gratitude, a bit longer\n",
    "]\n",
    "\n",
    "expectedLabels = ['gratitude', 'gratitude', 'gratitude', 'gratitude', 'gratitude', 'gratitude', 'gratitude', 'gratitude', 'gratitude', 'gratitude']\n"
   ]
  },
  {
   "cell_type": "code",
   "execution_count": 3,
   "id": "cb53513d",
   "metadata": {},
   "outputs": [],
   "source": [
    "all_times=[]"
   ]
  },
  {
   "cell_type": "code",
   "execution_count": 4,
   "id": "3098807d",
   "metadata": {},
   "outputs": [
    {
     "name": "stdout",
     "output_type": "stream",
     "text": [
      "I truly appreciate your kindness and support.\n",
      "sentence: I truly appreciate your kindness and support., Predicted label: [\"gratitude\"],Expected label: gratitude \n",
      "Length of sentence: I truly appreciate your kindness and support.,Time taken: 50.17180943489075 seconds\n",
      "\n",
      "I truly appreciate your kindness and support.\n",
      "sentence: I truly appreciate your kindness and support., Predicted label: [\"gratitude\"],Expected label: gratitude \n",
      "Length of sentence: I truly appreciate your kindness and support.,Time taken: 0.403348445892334 seconds\n",
      "\n",
      "I truly appreciate your kindness and support.\n",
      "sentence: I truly appreciate your kindness and support., Predicted label: [\"gratitude\"],Expected label: gratitude \n",
      "Length of sentence: I truly appreciate your kindness and support.,Time taken: 0.4017014503479004 seconds\n",
      "\n",
      "I truly appreciate your kindness and support.\n",
      "sentence: I truly appreciate your kindness and support., Predicted label: [\"gratitude\"],Expected label: gratitude \n",
      "Length of sentence: I truly appreciate your kindness and support.,Time taken: 0.3504157066345215 seconds\n",
      "\n",
      "I truly appreciate your kindness and support.\n",
      "sentence: I truly appreciate your kindness and support., Predicted label: [\"gratitude\"],Expected label: gratitude \n",
      "Length of sentence: I truly appreciate your kindness and support.,Time taken: 0.3583333492279053 seconds\n",
      "\n",
      "I truly appreciate your kindness and support.\n",
      "sentence: I truly appreciate your kindness and support., Predicted label: [\"gratitude\"],Expected label: gratitude \n",
      "Length of sentence: I truly appreciate your kindness and support.,Time taken: 0.3554837703704834 seconds\n",
      "\n",
      "I truly appreciate your kindness and support.\n",
      "sentence: I truly appreciate your kindness and support., Predicted label: [\"gratitude\"],Expected label: gratitude \n",
      "Length of sentence: I truly appreciate your kindness and support.,Time taken: 0.3678553104400635 seconds\n",
      "\n",
      "I truly appreciate your kindness and support.\n",
      "sentence: I truly appreciate your kindness and support., Predicted label: [\"gratitude\"],Expected label: gratitude \n",
      "Length of sentence: I truly appreciate your kindness and support.,Time taken: 0.37194252014160156 seconds\n",
      "\n",
      "I truly appreciate your kindness and support.\n",
      "sentence: I truly appreciate your kindness and support., Predicted label: [\"gratitude\"],Expected label: gratitude \n",
      "Length of sentence: I truly appreciate your kindness and support.,Time taken: 0.42667293548583984 seconds\n",
      "\n",
      "I truly appreciate your kindness and support.\n",
      "sentence: I truly appreciate your kindness and support., Predicted label: [\"gratitude\"],Expected label: gratitude \n",
      "Length of sentence: I truly appreciate your kindness and support.,Time taken: 0.3410379886627197 seconds\n",
      "\n"
     ]
    }
   ],
   "source": [
    "for i in range(len(testExamples)):\n",
    "    startTime = time.time()\n",
    "    sample_sentences = testExamples[i]\n",
    "    print(sample_sentences)\n",
    "    predictions =  retreive_sentiments([testExamples[i]])\n",
    "    # Record the end time\n",
    "    endTime = time.time()\n",
    "    # Calculate the time taken\n",
    "    timeTaken = endTime - startTime\n",
    "    all_times.append(timeTaken)\n",
    "    print(f'sentence: {sample_sentences}, Predicted label: {predictions},Expected label: {expectedLabels[i]} ')\n",
    "    print(f'Length of sentence: {sample_sentences},Time taken: {timeTaken} seconds')\n",
    "    print()"
   ]
  },
  {
   "cell_type": "code",
   "execution_count": 5,
   "id": "55802d58",
   "metadata": {},
   "outputs": [
    {
     "data": {
      "text/plain": [
       "0.3751990530225966"
      ]
     },
     "execution_count": 5,
     "metadata": {},
     "output_type": "execute_result"
    }
   ],
   "source": [
    "sum(all_times[1:])/len(all_times[1:])"
   ]
  },
  {
   "attachments": {},
   "cell_type": "markdown",
   "id": "9e20bc34",
   "metadata": {},
   "source": [
    "<font color=\"blue\">Provides information about the execution time for each prediction, with the average response time being approximately 0.375 seconds, excluding the model’s initial cold start, which takes around 50.172 seconds. This low average response time allows for a smooth user experience.</font>"
   ]
  },
  {
   "attachments": {},
   "cell_type": "markdown",
   "id": "3111dec6",
   "metadata": {},
   "source": [
    "The following function named `test_sentiment` takes two parameters: `test_examples` and `expected_labels`. Inside the function, a loop iterates over the test examples. For each example, the code records the start time, retrieves the sentiment prediction using an unknown function called `retreive_sentiments`, and calculates the execution time. The sentence, predicted label, and expected label are then printed, along with the length of the sentence and the time taken for the prediction. This code seems to be a testing function that evaluates sentiment predictions for a list of test examples and provides information about the execution time for each prediction."
   ]
  },
  {
   "cell_type": "code",
   "execution_count": 6,
   "id": "97b1a973",
   "metadata": {},
   "outputs": [],
   "source": [
    "def test_sentiment(test_examples,expected_labels):\n",
    "    for i in range(len(test_examples)):\n",
    "        start_time = time.time()\n",
    "        sentence = test_examples[i]\n",
    "        prediction =  retreive_sentiments([test_examples[i]])\n",
    "        # Record the end time\n",
    "        end_time = time.time()\n",
    "        # Calculate the time taken\n",
    "        time_taken = end_time - start_time\n",
    "        print(f'sentence: {sentence}, Predicted label: {prediction},Expected label: {expected_labels[i]} ')\n",
    "        print(f'Length of sentence: {len(sentence)},Time taken: {time_taken} seconds')\n",
    "        print()"
   ]
  },
  {
   "attachments": {},
   "cell_type": "markdown",
   "id": "340fa7ea",
   "metadata": {},
   "source": [
    "## Testing bad performing emotions (Approval and Disapproval):\n",
    "\n",
    "Evaluates how well the model performs on these emotions. That helps in identifying any potential weaknesses or biases in CNN’s predictions."
   ]
  },
  {
   "cell_type": "code",
   "execution_count": 7,
   "id": "b52d124c",
   "metadata": {},
   "outputs": [],
   "source": [
    "comments = [\n",
    "    \"This book is amazing! I couldn't put it down.\",\n",
    "    \"The customer service at this store is outstanding. They go above and beyond to assist you.\",\n",
    "    \"I'm really impressed with the new features in the latest software update.\",\n",
    "    \"The concert last night was incredible! The band's performance was top-notch.\",\n",
    "    \"I highly recommend this restaurant. The food is delicious and the atmosphere is fantastic.\",\n",
    "    \"I'm extremely disappointed with the poor quality of this product.\",\n",
    "    \"The service at this hotel was terrible. The staff was rude and unhelpful.\",\n",
    "    \"I regret purchasing this item. It doesn't meet my expectations.\",\n",
    "    \"The movie I watched yesterday was a complete waste of time. The plot was confusing and the acting was awful.\",\n",
    "    \"I had a horrible experience with this airline. They lost my luggage and provided no assistance.\"\n",
    "]\n",
    "expectedLabels = [\n",
    "    \"Approval\",\n",
    "    \"Approval\",\n",
    "    \"Approval\",\n",
    "    \"Approval\",\n",
    "    \"Approval\",\n",
    "    \"Dissaproval\",\n",
    "    \"Dissaproval\",\n",
    "    \"Dissaproval\",\n",
    "    \"Dissaproval\",\n",
    "    \"Dissaproval\"\n",
    "]\n"
   ]
  },
  {
   "cell_type": "code",
   "execution_count": 8,
   "id": "7f2b52e3",
   "metadata": {},
   "outputs": [
    {
     "name": "stdout",
     "output_type": "stream",
     "text": [
      "sentence: This book is amazing! I couldn't put it down., Predicted label: [\"joy\"],Expected label: Approval \n",
      "Length of sentence: 45,Time taken: 0.37007713317871094 seconds\n",
      "\n",
      "sentence: The customer service at this store is outstanding. They go above and beyond to assist you., Predicted label: [\"approval\"],Expected label: Approval \n",
      "Length of sentence: 90,Time taken: 0.4719111919403076 seconds\n",
      "\n",
      "sentence: I'm really impressed with the new features in the latest software update., Predicted label: [\"gratitude\"],Expected label: Approval \n",
      "Length of sentence: 73,Time taken: 0.41318488121032715 seconds\n",
      "\n",
      "sentence: The concert last night was incredible! The band's performance was top-notch., Predicted label: [\"joy\"],Expected label: Approval \n",
      "Length of sentence: 76,Time taken: 0.4196176528930664 seconds\n",
      "\n",
      "sentence: I highly recommend this restaurant. The food is delicious and the atmosphere is fantastic., Predicted label: [\"approval\"],Expected label: Approval \n",
      "Length of sentence: 90,Time taken: 0.3493654727935791 seconds\n",
      "\n",
      "sentence: I'm extremely disappointed with the poor quality of this product., Predicted label: [\"sadness\"],Expected label: Dissaproval \n",
      "Length of sentence: 65,Time taken: 0.34774255752563477 seconds\n",
      "\n",
      "sentence: The service at this hotel was terrible. The staff was rude and unhelpful., Predicted label: [\"anger\"],Expected label: Dissaproval \n",
      "Length of sentence: 73,Time taken: 0.3533663749694824 seconds\n",
      "\n",
      "sentence: I regret purchasing this item. It doesn't meet my expectations., Predicted label: [\"remorse\"],Expected label: Dissaproval \n",
      "Length of sentence: 63,Time taken: 0.35129714012145996 seconds\n",
      "\n",
      "sentence: The movie I watched yesterday was a complete waste of time. The plot was confusing and the acting was awful., Predicted label: [\"confusion\"],Expected label: Dissaproval \n",
      "Length of sentence: 108,Time taken: 0.42940306663513184 seconds\n",
      "\n",
      "sentence: I had a horrible experience with this airline. They lost my luggage and provided no assistance., Predicted label: [\"fear\"],Expected label: Dissaproval \n",
      "Length of sentence: 95,Time taken: 0.3477001190185547 seconds\n",
      "\n"
     ]
    }
   ],
   "source": [
    "test_sentiment(comments,expectedLabels)"
   ]
  },
  {
   "attachments": {},
   "cell_type": "markdown",
   "id": "39dbd9ab",
   "metadata": {},
   "source": [
    "<font color=\"blue\"> When evaluating the two worst-performing emotions, approval, and disapproval, the model predicted 2 out of 5 correctly for approval, and sadly none for disapproval. Notably, the time taken for these predictions remained consistent, regardless of the accuracy of the outcome. </font>"
   ]
  },
  {
   "attachments": {},
   "cell_type": "markdown",
   "id": "f75fcd71",
   "metadata": {},
   "source": [
    "## Testing all different types of emotions:\n",
    "\n",
    "Helped determine if the model is biased or inaccurate towards specific emotions."
   ]
  },
  {
   "cell_type": "code",
   "execution_count": 9,
   "id": "8b373931",
   "metadata": {},
   "outputs": [],
   "source": [
    "comments = [\n",
    "    \"This movie is hilarious! I can't stop laughing.\",  # amusement\n",
    "    \"I'm so angry at what happened.\",  # anger\n",
    "    \"I approve of your decision.\",  # approval\n",
    "    \"I'm confused about what to do next.\",  # confusion\n",
    "    \"I'm really curious to learn more about this topic.\",  # curiosity\n",
    "    \"I desire success and happiness.\",  # desire\n",
    "    \"I strongly disapprove of your behavior.\",  # disapproval\n",
    "    \"I'm afraid of what might happen.\",  # fear\n",
    "    \"I'm grateful for your help.\",  # gratitude\n",
    "    \"The news filled me with joy.\",  # joy\n",
    "    \"I love spending time with my family.\",  # love\n",
    "    \"I feel remorseful for my actions.\",  # remorse\n",
    "    \"I'm feeling sad and lonely.\",  # sadness\n",
    "    \"I don't have any strong emotions right now.\"  # neutral\n",
    "]\n",
    "\n",
    "expectedLabels = [\n",
    "    \"amusement\",\n",
    "    \"anger\",\n",
    "    \"approval\",\n",
    "    \"confusion\",\n",
    "    \"curiosity\",\n",
    "    \"desire\",\n",
    "    \"disapproval\",\n",
    "    \"fear\",\n",
    "    \"gratitude\",\n",
    "    \"joy\",\n",
    "    \"love\",\n",
    "    \"remorse\",\n",
    "    \"sadness\",\n",
    "    \"neutral\"\n",
    "]\n"
   ]
  },
  {
   "cell_type": "code",
   "execution_count": 10,
   "id": "0619da3f",
   "metadata": {},
   "outputs": [
    {
     "name": "stdout",
     "output_type": "stream",
     "text": [
      "sentence: This movie is hilarious! I can't stop laughing., Predicted label: [\"amusement\"],Expected label: amusement \n",
      "Length of sentence: 47,Time taken: 0.37226057052612305 seconds\n",
      "\n",
      "sentence: I'm so angry at what happened., Predicted label: [\"anger\"],Expected label: anger \n",
      "Length of sentence: 30,Time taken: 0.3471353054046631 seconds\n",
      "\n",
      "sentence: I approve of your decision., Predicted label: [\"approval\"],Expected label: approval \n",
      "Length of sentence: 27,Time taken: 0.351421594619751 seconds\n",
      "\n",
      "sentence: I'm confused about what to do next., Predicted label: [\"confusion\"],Expected label: confusion \n",
      "Length of sentence: 35,Time taken: 0.3596150875091553 seconds\n",
      "\n",
      "sentence: I'm really curious to learn more about this topic., Predicted label: [\"curiosity\"],Expected label: curiosity \n",
      "Length of sentence: 50,Time taken: 0.4208106994628906 seconds\n",
      "\n",
      "sentence: I desire success and happiness., Predicted label: [\"desire\"],Expected label: desire \n",
      "Length of sentence: 31,Time taken: 0.3453202247619629 seconds\n",
      "\n",
      "sentence: I strongly disapprove of your behavior., Predicted label: [\"disapproval\"],Expected label: disapproval \n",
      "Length of sentence: 39,Time taken: 0.358004093170166 seconds\n",
      "\n",
      "sentence: I'm afraid of what might happen., Predicted label: [\"fear\"],Expected label: fear \n",
      "Length of sentence: 32,Time taken: 0.3706343173980713 seconds\n",
      "\n",
      "sentence: I'm grateful for your help., Predicted label: [\"gratitude\"],Expected label: gratitude \n",
      "Length of sentence: 27,Time taken: 0.3565542697906494 seconds\n",
      "\n",
      "sentence: The news filled me with joy., Predicted label: [\"joy\"],Expected label: joy \n",
      "Length of sentence: 28,Time taken: 0.4202103614807129 seconds\n",
      "\n",
      "sentence: I love spending time with my family., Predicted label: [\"love\"],Expected label: love \n",
      "Length of sentence: 36,Time taken: 0.3448371887207031 seconds\n",
      "\n",
      "sentence: I feel remorseful for my actions., Predicted label: [\"neutral\"],Expected label: remorse \n",
      "Length of sentence: 33,Time taken: 0.3453037738800049 seconds\n",
      "\n",
      "sentence: I'm feeling sad and lonely., Predicted label: [\"sadness\"],Expected label: sadness \n",
      "Length of sentence: 27,Time taken: 0.3491652011871338 seconds\n",
      "\n",
      "sentence: I don't have any strong emotions right now., Predicted label: [\"disapproval\"],Expected label: neutral \n",
      "Length of sentence: 43,Time taken: 0.3509979248046875 seconds\n",
      "\n"
     ]
    }
   ],
   "source": [
    "test_sentiment(comments,expectedLabels)"
   ]
  },
  {
   "attachments": {},
   "cell_type": "markdown",
   "id": "f7375c6b",
   "metadata": {},
   "source": [
    "<font color=\"blue\">When testing all types of emotions, the emotions of **remorse** and **neutral** were frequently misclassified. Despite this, the prediction times for most emotions remained consistent.</font>"
   ]
  },
  {
   "attachments": {},
   "cell_type": "markdown",
   "id": "f497a2ea",
   "metadata": {},
   "source": [
    "## Testing different input lengths:\n",
    "\n",
    "Examined the model's performance in relation to input length. That helped ensure that the model can handle and classify emotions correctly for extended texts without any performance or memory issues. "
   ]
  },
  {
   "cell_type": "code",
   "execution_count": 11,
   "id": "bd144080",
   "metadata": {},
   "outputs": [],
   "source": [
    "comments = [\n",
    "    \"Thanks!\",  # Gratitude, short\n",
    "    \"I truly appreciate your kindness and support.\",  # Gratitude, a bit longer\n",
    "    \"I cannot express how much your help means to me. You have my eternal gratitude.\",  # Gratitude, longer\n",
    "    \"I want to sincerely thank you for your invaluable help. Your support during this challenging period is deeply appreciated.\",  # Gratitude, very long\n",
    "    \"I'm sorry.\",  # Remorse, short\n",
    "    \"I apologize for my actions and I regret that I hurt you.\",  # Remorse, a bit longer\n",
    "    \"I deeply regret my actions and I sincerely apologize for the harm I caused.\",  # Remorse, longer\n",
    "    \"I'm truly sorry for my hurtful actions. I deeply regret the pain I've caused and I promise to learn from this mistake to avoid causing such harm in the future.\",  # Remorse, very long\n",
    "]\n",
    "\n",
    "expectedLabels = ['gratitude', 'gratitude', 'gratitude', 'gratitude', 'remorse', 'remorse', 'remorse', 'remorse']"
   ]
  },
  {
   "cell_type": "code",
   "execution_count": 12,
   "id": "c84ce6b7",
   "metadata": {},
   "outputs": [
    {
     "name": "stdout",
     "output_type": "stream",
     "text": [
      "sentence: Thanks!, Predicted label: [\"gratitude\"],Expected label: gratitude \n",
      "Length of sentence: 7,Time taken: 0.4464993476867676 seconds\n",
      "\n",
      "sentence: I truly appreciate your kindness and support., Predicted label: [\"gratitude\"],Expected label: gratitude \n",
      "Length of sentence: 45,Time taken: 0.3529856204986572 seconds\n",
      "\n",
      "sentence: I cannot express how much your help means to me. You have my eternal gratitude., Predicted label: [\"love\"],Expected label: gratitude \n",
      "Length of sentence: 79,Time taken: 0.3458139896392822 seconds\n",
      "\n",
      "sentence: I want to sincerely thank you for your invaluable help. Your support during this challenging period is deeply appreciated., Predicted label: [\"gratitude\"],Expected label: gratitude \n",
      "Length of sentence: 122,Time taken: 0.37062978744506836 seconds\n",
      "\n",
      "sentence: I'm sorry., Predicted label: [\"remorse\"],Expected label: remorse \n",
      "Length of sentence: 10,Time taken: 0.35904502868652344 seconds\n",
      "\n",
      "sentence: I apologize for my actions and I regret that I hurt you., Predicted label: [\"remorse\"],Expected label: remorse \n",
      "Length of sentence: 56,Time taken: 0.3517892360687256 seconds\n",
      "\n",
      "sentence: I deeply regret my actions and I sincerely apologize for the harm I caused., Predicted label: [\"remorse\"],Expected label: remorse \n",
      "Length of sentence: 75,Time taken: 0.4391613006591797 seconds\n",
      "\n",
      "sentence: I'm truly sorry for my hurtful actions. I deeply regret the pain I've caused and I promise to learn from this mistake to avoid causing such harm in the future., Predicted label: [\"remorse\"],Expected label: remorse \n",
      "Length of sentence: 159,Time taken: 0.36437153816223145 seconds\n",
      "\n"
     ]
    }
   ],
   "source": [
    "test_sentiment(comments,expectedLabels)"
   ]
  },
  {
   "attachments": {},
   "cell_type": "markdown",
   "id": "0eb81430",
   "metadata": {},
   "source": [
    "<font color=\"blue\">In this case, the parameter under examination is the time taken for increasing input lengths. The results above show that an increase in the sentence length does not correspond to an increase in the time taken to predict an emotion.  </font>"
   ]
  },
  {
   "cell_type": "code",
   "execution_count": 13,
   "id": "e44a257c",
   "metadata": {},
   "outputs": [],
   "source": [
    "comments = [\"People often talk about love, but most of us are not fully aware about its true essence. There is lot of misconception about efficacy of love that holds us back to generate loving feelings towards others. Love is not possessiveness. People look love as a possession that has to be acquired and preserved. To expect that others ought to provide it to us so that our life is filled with love is the biggest fallacy, which is cause of much unhappiness. It is not like any other material thing to be demanded from others. Even if other person offers us plenty of love, we may not be able to feel it. It is normal to blame others for not loving us, but much depends on our inner self whether it has capability to feel it from others. Love is a feeling of well being and of good emotions. It is an activity that keeps us in good spirit and is liked to our emotions. Let us engage and create feeling of love by making self capable through appropriate changes in our dealings with others. There is no other way to love and be loved. The physical intimacy devoid of good feelings is not love but lust. People often fail to conceive love as pious in essence. While dealing with others, let us take care that our dealings make them cheerful, by helping them to come out of their problem, appreciate their successes and be grateful for help received from them. All these activities are to express love. The benefit of giving love to others is that it appeals to our heart and makes us connected to others, provides stability and security, removes fear and gives a feeling of being good towards other people. One can get to know love by first generating such feelings of being good to others. How can a person feel love from others if he is filled with ego, anger and selfish tendencies? These negative emotions suppress inner urge to love others. Love is a divine energy. I had a very vague idea about love initially. As I tried to understand more about it, a completely different perspective and thinking develops that explains the true essence of love. I have come to know from spiritual literature that love is God and God is love. It appears too abstract in the first instance, but more we tend to think of God will make us to love God and all other creations of God. It is like energy flowing within us derived from Ultimate that thinks positive and helps in inner purification. Albert Einstein discovered energy mass equation that explains interconnection of material and energy. It revolutionized the thinking of present century by using a small amount of mass to derive a tremendous energy. Hence, along with our material existence, somewhere we are also part of the divine energy lying within us as dormant. Logically, this divine energy which is nothing but love brings us close to Ultimate. I can imagine that every one of us has a great capacity of this divine love within us, but it is hidden, untapped and misdirected. Great saints have worked on human beings from time to time by developing intense feeling of love and concern for others. This has helped them to achieve higher levels of spiritual growth and closeness with the ultimate. The true meaning of love is inner purification of soul. This is the real purpose of love.\"]\n",
    "expectedLabels = [\"love\"]"
   ]
  },
  {
   "cell_type": "code",
   "execution_count": 14,
   "id": "f50e609f",
   "metadata": {},
   "outputs": [
    {
     "name": "stdout",
     "output_type": "stream",
     "text": [
      "sentence: People often talk about love, but most of us are not fully aware about its true essence. There is lot of misconception about efficacy of love that holds us back to generate loving feelings towards others. Love is not possessiveness. People look love as a possession that has to be acquired and preserved. To expect that others ought to provide it to us so that our life is filled with love is the biggest fallacy, which is cause of much unhappiness. It is not like any other material thing to be demanded from others. Even if other person offers us plenty of love, we may not be able to feel it. It is normal to blame others for not loving us, but much depends on our inner self whether it has capability to feel it from others. Love is a feeling of well being and of good emotions. It is an activity that keeps us in good spirit and is liked to our emotions. Let us engage and create feeling of love by making self capable through appropriate changes in our dealings with others. There is no other way to love and be loved. The physical intimacy devoid of good feelings is not love but lust. People often fail to conceive love as pious in essence. While dealing with others, let us take care that our dealings make them cheerful, by helping them to come out of their problem, appreciate their successes and be grateful for help received from them. All these activities are to express love. The benefit of giving love to others is that it appeals to our heart and makes us connected to others, provides stability and security, removes fear and gives a feeling of being good towards other people. One can get to know love by first generating such feelings of being good to others. How can a person feel love from others if he is filled with ego, anger and selfish tendencies? These negative emotions suppress inner urge to love others. Love is a divine energy. I had a very vague idea about love initially. As I tried to understand more about it, a completely different perspective and thinking develops that explains the true essence of love. I have come to know from spiritual literature that love is God and God is love. It appears too abstract in the first instance, but more we tend to think of God will make us to love God and all other creations of God. It is like energy flowing within us derived from Ultimate that thinks positive and helps in inner purification. Albert Einstein discovered energy mass equation that explains interconnection of material and energy. It revolutionized the thinking of present century by using a small amount of mass to derive a tremendous energy. Hence, along with our material existence, somewhere we are also part of the divine energy lying within us as dormant. Logically, this divine energy which is nothing but love brings us close to Ultimate. I can imagine that every one of us has a great capacity of this divine love within us, but it is hidden, untapped and misdirected. Great saints have worked on human beings from time to time by developing intense feeling of love and concern for others. This has helped them to achieve higher levels of spiritual growth and closeness with the ultimate. The true meaning of love is inner purification of soul. This is the real purpose of love., Predicted label: [\"love\"],Expected label: love \n",
      "Length of sentence: 3230,Time taken: 0.37572789192199707 seconds\n",
      "\n"
     ]
    }
   ],
   "source": [
    "test_sentiment(comments,expectedLabels)"
   ]
  },
  {
   "attachments": {},
   "cell_type": "markdown",
   "id": "bb46ef87",
   "metadata": {},
   "source": [
    "<font color=\"blue\">The result above solidifies the precious conclusion made as the length of the sentence is very large in this case but the time taken to yield a prediction approximately stays constant. Even with a large length of an input sentence the model yields a response at a very short time and very accurately. </font>"
   ]
  },
  {
   "attachments": {},
   "cell_type": "markdown",
   "id": "7569eef6",
   "metadata": {},
   "source": [
    "## Testing unusual characters:\n",
    "\n",
    "Tests if CNN can generalize well and make accurate predictions even when faced with unexpected or uncommon characters."
   ]
  },
  {
   "cell_type": "code",
   "execution_count": 15,
   "id": "ddbf6f28",
   "metadata": {},
   "outputs": [],
   "source": [
    "comments = [\n",
    "    \"Thank$$$! @@@very much!!!\",  # Gratitude, short\n",
    "    \"You're %%%amazing, I can't thank you enough!\",  # Gratitude, a bit longer\n",
    "    \"Your help has been / / / invaluable, I am eternally grateful. ####\",  # Gratitude, longer\n",
    "    \"I am deeply **grateful** for your support during this extremely <<difficult>> time.\",  # Gratitude, very long\n",
    "    \"I'm s*rry... :(\",  # Remorse, short\n",
    "    \"My #apologies for my behavior, I really @regret that.\",  # Remorse, a bit longer\n",
    "    \"I ^deeply regret my actions and ~apologize for the harm I caused.\",  # Remorse, longer\n",
    "    \"I am truly, deeply sorry for my hurtful actions. I !REGRET! the pain I've caused.\",  # Remorse, very long\n",
    "]\n",
    "\n",
    "expectedLabels = ['gratitude', 'gratitude', 'gratitude', 'gratitude', 'remorse', 'remorse', 'remorse', 'remorse']"
   ]
  },
  {
   "cell_type": "code",
   "execution_count": 16,
   "id": "e7111957",
   "metadata": {},
   "outputs": [
    {
     "name": "stdout",
     "output_type": "stream",
     "text": [
      "sentence: Thank$$$! @@@very much!!!, Predicted label: [\"neutral\"],Expected label: gratitude \n",
      "Length of sentence: 25,Time taken: 0.3705124855041504 seconds\n",
      "\n",
      "sentence: You're %%%amazing, I can't thank you enough!, Predicted label: [\"gratitude\"],Expected label: gratitude \n",
      "Length of sentence: 44,Time taken: 0.35370397567749023 seconds\n",
      "\n",
      "sentence: Your help has been / / / invaluable, I am eternally grateful. ####, Predicted label: [\"gratitude\"],Expected label: gratitude \n",
      "Length of sentence: 66,Time taken: 0.4207751750946045 seconds\n",
      "\n",
      "sentence: I am deeply **grateful** for your support during this extremely <<difficult>> time., Predicted label: [\"gratitude\"],Expected label: gratitude \n",
      "Length of sentence: 83,Time taken: 0.3645198345184326 seconds\n",
      "\n",
      "sentence: I'm s*rry... :(, Predicted label: [\"neutral\"],Expected label: remorse \n",
      "Length of sentence: 15,Time taken: 0.3423118591308594 seconds\n",
      "\n",
      "sentence: My #apologies for my behavior, I really @regret that., Predicted label: [\"remorse\"],Expected label: remorse \n",
      "Length of sentence: 53,Time taken: 0.3452770709991455 seconds\n",
      "\n",
      "sentence: I ^deeply regret my actions and ~apologize for the harm I caused., Predicted label: [\"sadness\"],Expected label: remorse \n",
      "Length of sentence: 65,Time taken: 0.3476827144622803 seconds\n",
      "\n",
      "sentence: I am truly, deeply sorry for my hurtful actions. I !REGRET! the pain I've caused., Predicted label: [\"remorse\"],Expected label: remorse \n",
      "Length of sentence: 81,Time taken: 0.4382200241088867 seconds\n",
      "\n"
     ]
    }
   ],
   "source": [
    "test_sentiment(comments,expectedLabels)"
   ]
  },
  {
   "attachments": {},
   "cell_type": "markdown",
   "id": "8d464281",
   "metadata": {},
   "source": [
    "<font color=\"blue\">The above test did not show any significant change in prediction time neither in missclassifications. That signifies that despite using special characters the model is able to yield accurate results, fairly quickly.</font>"
   ]
  },
  {
   "attachments": {},
   "cell_type": "markdown",
   "id": "da04266e",
   "metadata": {},
   "source": [
    "## Test different number of list elements:"
   ]
  },
  {
   "cell_type": "code",
   "execution_count": 17,
   "id": "5a76d158",
   "metadata": {},
   "outputs": [],
   "source": [
    "testExamples = [\n",
    "    \"This movie is hilarious! I can't stop laughing.\",  # amusement\n",
    "    \"I'm so angry at what happened.\",  # anger\n",
    "    \"I approve of your decision.\",  # approval\n",
    "    \"I'm confused about what to do next.\",  # confusion\n",
    "    \"I'm really curious to learn more about this topic.\",  # curiosity\n",
    "    \"I desire success and happiness.\",  # desire\n",
    "    \"I strongly disapprove of your behavior.\",  # disapproval\n",
    "    \"I'm afraid of what might happen.\",  # fear\n",
    "    \"I'm grateful for your help.\",  # gratitude\n",
    "    \"The news filled me with joy.\",  # joy\n",
    "    \"I love spending time with my family.\",  # love\n",
    "    \"I feel remorseful for my actions.\",  # remorse\n",
    "    \"I'm feeling sad and lonely.\",  # sadness\n",
    "    \"I don't have any strong emotions right now.\"  # neutral\n",
    "]\n",
    "\n",
    "expectedLabels = [\n",
    "    \"amusement\",\n",
    "    \"anger\",\n",
    "    \"approval\",\n",
    "    \"confusion\",\n",
    "    \"curiosity\",\n",
    "    \"desire\",\n",
    "    \"disapproval\",\n",
    "    \"fear\",\n",
    "    \"gratitude\",\n",
    "    \"joy\",\n",
    "    \"love\",\n",
    "    \"remorse\",\n",
    "    \"sadness\",\n",
    "    \"neutral\"\n",
    "]"
   ]
  },
  {
   "cell_type": "code",
   "execution_count": 18,
   "id": "481eb8fa",
   "metadata": {},
   "outputs": [
    {
     "name": "stdout",
     "output_type": "stream",
     "text": [
      "[\"This movie is hilarious! I can't stop laughing.\"]\n",
      "sentence: [\"This movie is hilarious! I can't stop laughing.\"], Predicted label: [\"amusement\"],Expected label: anger \n",
      "Length of sentence: 1,Time taken: 0.3778963088989258 seconds\n",
      "\n",
      "[\"This movie is hilarious! I can't stop laughing.\", \"I'm so angry at what happened.\"]\n",
      "sentence: [\"This movie is hilarious! I can't stop laughing.\", \"I'm so angry at what happened.\"], Predicted label: [\"amusement\", \"anger\"],Expected label: approval \n",
      "Length of sentence: 2,Time taken: 0.6845967769622803 seconds\n",
      "\n",
      "[\"This movie is hilarious! I can't stop laughing.\", \"I'm so angry at what happened.\", 'I approve of your decision.']\n",
      "sentence: [\"This movie is hilarious! I can't stop laughing.\", \"I'm so angry at what happened.\", 'I approve of your decision.'], Predicted label: [\"amusement\", \"anger\", \"approval\"],Expected label: confusion \n",
      "Length of sentence: 3,Time taken: 1.107055902481079 seconds\n",
      "\n",
      "[\"This movie is hilarious! I can't stop laughing.\", \"I'm so angry at what happened.\", 'I approve of your decision.', \"I'm confused about what to do next.\"]\n",
      "sentence: [\"This movie is hilarious! I can't stop laughing.\", \"I'm so angry at what happened.\", 'I approve of your decision.', \"I'm confused about what to do next.\"], Predicted label: [\"amusement\", \"anger\", \"approval\", \"confusion\"],Expected label: curiosity \n",
      "Length of sentence: 4,Time taken: 1.4256398677825928 seconds\n",
      "\n",
      "[\"This movie is hilarious! I can't stop laughing.\", \"I'm so angry at what happened.\", 'I approve of your decision.', \"I'm confused about what to do next.\", \"I'm really curious to learn more about this topic.\"]\n",
      "sentence: [\"This movie is hilarious! I can't stop laughing.\", \"I'm so angry at what happened.\", 'I approve of your decision.', \"I'm confused about what to do next.\", \"I'm really curious to learn more about this topic.\"], Predicted label: [\"amusement\", \"anger\", \"approval\", \"confusion\", \"curiosity\"],Expected label: desire \n",
      "Length of sentence: 5,Time taken: 1.8062126636505127 seconds\n",
      "\n",
      "[\"This movie is hilarious! I can't stop laughing.\", \"I'm so angry at what happened.\", 'I approve of your decision.', \"I'm confused about what to do next.\", \"I'm really curious to learn more about this topic.\", 'I desire success and happiness.']\n",
      "sentence: [\"This movie is hilarious! I can't stop laughing.\", \"I'm so angry at what happened.\", 'I approve of your decision.', \"I'm confused about what to do next.\", \"I'm really curious to learn more about this topic.\", 'I desire success and happiness.'], Predicted label: [\"amusement\", \"anger\", \"approval\", \"confusion\", \"curiosity\", \"desire\"],Expected label: disapproval \n",
      "Length of sentence: 6,Time taken: 2.1611087322235107 seconds\n",
      "\n",
      "[\"This movie is hilarious! I can't stop laughing.\", \"I'm so angry at what happened.\", 'I approve of your decision.', \"I'm confused about what to do next.\", \"I'm really curious to learn more about this topic.\", 'I desire success and happiness.', 'I strongly disapprove of your behavior.']\n",
      "sentence: [\"This movie is hilarious! I can't stop laughing.\", \"I'm so angry at what happened.\", 'I approve of your decision.', \"I'm confused about what to do next.\", \"I'm really curious to learn more about this topic.\", 'I desire success and happiness.', 'I strongly disapprove of your behavior.'], Predicted label: [\"amusement\", \"anger\", \"approval\", \"confusion\", \"curiosity\", \"desire\", \"disapproval\"],Expected label: fear \n",
      "Length of sentence: 7,Time taken: 2.5930094718933105 seconds\n",
      "\n",
      "[\"This movie is hilarious! I can't stop laughing.\", \"I'm so angry at what happened.\", 'I approve of your decision.', \"I'm confused about what to do next.\", \"I'm really curious to learn more about this topic.\", 'I desire success and happiness.', 'I strongly disapprove of your behavior.', \"I'm afraid of what might happen.\"]\n",
      "sentence: [\"This movie is hilarious! I can't stop laughing.\", \"I'm so angry at what happened.\", 'I approve of your decision.', \"I'm confused about what to do next.\", \"I'm really curious to learn more about this topic.\", 'I desire success and happiness.', 'I strongly disapprove of your behavior.', \"I'm afraid of what might happen.\"], Predicted label: [\"amusement\", \"anger\", \"approval\", \"confusion\", \"curiosity\", \"desire\", \"disapproval\", \"fear\"],Expected label: gratitude \n",
      "Length of sentence: 8,Time taken: 2.884437084197998 seconds\n",
      "\n",
      "[\"This movie is hilarious! I can't stop laughing.\", \"I'm so angry at what happened.\", 'I approve of your decision.', \"I'm confused about what to do next.\", \"I'm really curious to learn more about this topic.\", 'I desire success and happiness.', 'I strongly disapprove of your behavior.', \"I'm afraid of what might happen.\", \"I'm grateful for your help.\"]\n",
      "sentence: [\"This movie is hilarious! I can't stop laughing.\", \"I'm so angry at what happened.\", 'I approve of your decision.', \"I'm confused about what to do next.\", \"I'm really curious to learn more about this topic.\", 'I desire success and happiness.', 'I strongly disapprove of your behavior.', \"I'm afraid of what might happen.\", \"I'm grateful for your help.\"], Predicted label: [\"amusement\", \"anger\", \"approval\", \"confusion\", \"curiosity\", \"desire\", \"disapproval\", \"fear\", \"gratitude\"],Expected label: joy \n",
      "Length of sentence: 9,Time taken: 3.1982903480529785 seconds\n",
      "\n",
      "[\"This movie is hilarious! I can't stop laughing.\", \"I'm so angry at what happened.\", 'I approve of your decision.', \"I'm confused about what to do next.\", \"I'm really curious to learn more about this topic.\", 'I desire success and happiness.', 'I strongly disapprove of your behavior.', \"I'm afraid of what might happen.\", \"I'm grateful for your help.\", 'The news filled me with joy.']\n",
      "sentence: [\"This movie is hilarious! I can't stop laughing.\", \"I'm so angry at what happened.\", 'I approve of your decision.', \"I'm confused about what to do next.\", \"I'm really curious to learn more about this topic.\", 'I desire success and happiness.', 'I strongly disapprove of your behavior.', \"I'm afraid of what might happen.\", \"I'm grateful for your help.\", 'The news filled me with joy.'], Predicted label: [\"amusement\", \"anger\", \"approval\", \"confusion\", \"curiosity\", \"desire\", \"disapproval\", \"fear\", \"gratitude\", \"joy\"],Expected label: love \n",
      "Length of sentence: 10,Time taken: 3.705977439880371 seconds\n",
      "\n",
      "[\"This movie is hilarious! I can't stop laughing.\", \"I'm so angry at what happened.\", 'I approve of your decision.', \"I'm confused about what to do next.\", \"I'm really curious to learn more about this topic.\", 'I desire success and happiness.', 'I strongly disapprove of your behavior.', \"I'm afraid of what might happen.\", \"I'm grateful for your help.\", 'The news filled me with joy.', 'I love spending time with my family.']\n",
      "sentence: [\"This movie is hilarious! I can't stop laughing.\", \"I'm so angry at what happened.\", 'I approve of your decision.', \"I'm confused about what to do next.\", \"I'm really curious to learn more about this topic.\", 'I desire success and happiness.', 'I strongly disapprove of your behavior.', \"I'm afraid of what might happen.\", \"I'm grateful for your help.\", 'The news filled me with joy.', 'I love spending time with my family.'], Predicted label: [\"amusement\", \"anger\", \"approval\", \"confusion\", \"curiosity\", \"desire\", \"disapproval\", \"fear\", \"gratitude\", \"joy\", \"love\"],Expected label: remorse \n",
      "Length of sentence: 11,Time taken: 4.034624338150024 seconds\n",
      "\n",
      "[\"This movie is hilarious! I can't stop laughing.\", \"I'm so angry at what happened.\", 'I approve of your decision.', \"I'm confused about what to do next.\", \"I'm really curious to learn more about this topic.\", 'I desire success and happiness.', 'I strongly disapprove of your behavior.', \"I'm afraid of what might happen.\", \"I'm grateful for your help.\", 'The news filled me with joy.', 'I love spending time with my family.', 'I feel remorseful for my actions.']\n",
      "sentence: [\"This movie is hilarious! I can't stop laughing.\", \"I'm so angry at what happened.\", 'I approve of your decision.', \"I'm confused about what to do next.\", \"I'm really curious to learn more about this topic.\", 'I desire success and happiness.', 'I strongly disapprove of your behavior.', \"I'm afraid of what might happen.\", \"I'm grateful for your help.\", 'The news filled me with joy.', 'I love spending time with my family.', 'I feel remorseful for my actions.'], Predicted label: [\"amusement\", \"anger\", \"approval\", \"confusion\", \"curiosity\", \"desire\", \"disapproval\", \"fear\", \"gratitude\", \"joy\", \"love\", \"neutral\"],Expected label: sadness \n",
      "Length of sentence: 12,Time taken: 4.476558446884155 seconds\n",
      "\n",
      "[\"This movie is hilarious! I can't stop laughing.\", \"I'm so angry at what happened.\", 'I approve of your decision.', \"I'm confused about what to do next.\", \"I'm really curious to learn more about this topic.\", 'I desire success and happiness.', 'I strongly disapprove of your behavior.', \"I'm afraid of what might happen.\", \"I'm grateful for your help.\", 'The news filled me with joy.', 'I love spending time with my family.', 'I feel remorseful for my actions.', \"I'm feeling sad and lonely.\"]\n"
     ]
    },
    {
     "name": "stdout",
     "output_type": "stream",
     "text": [
      "sentence: [\"This movie is hilarious! I can't stop laughing.\", \"I'm so angry at what happened.\", 'I approve of your decision.', \"I'm confused about what to do next.\", \"I'm really curious to learn more about this topic.\", 'I desire success and happiness.', 'I strongly disapprove of your behavior.', \"I'm afraid of what might happen.\", \"I'm grateful for your help.\", 'The news filled me with joy.', 'I love spending time with my family.', 'I feel remorseful for my actions.', \"I'm feeling sad and lonely.\"], Predicted label: [\"amusement\", \"anger\", \"approval\", \"confusion\", \"curiosity\", \"desire\", \"disapproval\", \"fear\", \"gratitude\", \"joy\", \"love\", \"neutral\", \"sadness\"],Expected label: neutral \n",
      "Length of sentence: 13,Time taken: 4.7518470287323 seconds\n",
      "\n"
     ]
    }
   ],
   "source": [
    "for i in range(1,len(testExamples)):\n",
    "    startTime = time.time()\n",
    "    sample_sentences = testExamples[0:i]\n",
    "    print(sample_sentences)\n",
    "    predictions =  retreive_sentiments(testExamples[0:i])\n",
    "    # Record the end time\n",
    "    endTime = time.time()\n",
    "    # Calculate the time taken\n",
    "    timeTaken = endTime - startTime\n",
    "    print(f'sentence: {sample_sentences}, Predicted label: {predictions},Expected label: {expectedLabels[i]} ')\n",
    "    print(f'Length of sentence: {len(sample_sentences)},Time taken: {timeTaken} seconds')\n",
    "    print()"
   ]
  },
  {
   "attachments": {},
   "cell_type": "markdown",
   "id": "c381bbc4",
   "metadata": {},
   "source": [
    "<font color=\"blue\">From testing different number of list elements, one can deduce the larger the number of elements of the input list the more the time taken to yield a prediction. This may be due to the increase in required computation time as the algorithm has to make another prediction for each element added to the list.</font>"
   ]
  },
  {
   "attachments": {},
   "cell_type": "markdown",
   "id": "8161ed7e",
   "metadata": {},
   "source": [
    "# More performance testing on the app\n",
    "\n",
    "- Parallel requests and associated runtimes (to simulate concurrent users)\n",
    "- Throughput\n",
    "- Memory management\n",
    "- Adversarial testing"
   ]
  },
  {
   "cell_type": "code",
   "execution_count": 5,
   "id": "075e996e",
   "metadata": {},
   "outputs": [],
   "source": [
    "# import required libraries\n",
    "import json\n",
    "import requests\n",
    "import concurrent.futures\n",
    "from concurrent.futures import ThreadPoolExecutor, ProcessPoolExecutor\n",
    "import pandas as pd\n",
    "import time"
   ]
  },
  {
   "cell_type": "code",
   "execution_count": 6,
   "id": "782e5e9f",
   "metadata": {},
   "outputs": [],
   "source": [
    "# Function to test flask app by getting an output\n",
    "def get_sentiment(data):\n",
    "    url = \"http://127.0.0.1:5050/get_sentiment\"\n",
    "    payload = json.dumps(data)  # Convert the list of comments to JSON format\n",
    "    response = requests.post(url, json=payload)\n",
    "    return response.text"
   ]
  },
  {
   "cell_type": "code",
   "execution_count": 7,
   "id": "2df88f30",
   "metadata": {},
   "outputs": [],
   "source": [
    "# Function for sending a list of inputs\n",
    "def get_sentiments_list(data):\n",
    "    url = \"http://127.0.0.1:5050/retreive_sentiments\"\n",
    "    payload = json.dumps(data)  # Convert the list of comments to JSON format\n",
    "    response = requests.post(url, json=payload)\n",
    "    return response.text"
   ]
  },
  {
   "cell_type": "code",
   "execution_count": null,
   "id": "a98b704d",
   "metadata": {},
   "outputs": [],
   "source": [
    "# Get log contents\n",
    "with open('service.log', 'r') as file:\n",
    "    log_contents = file.read()\n",
    "\n",
    "print(log_contents)"
   ]
  },
  {
   "cell_type": "code",
   "execution_count": 9,
   "id": "461675da",
   "metadata": {},
   "outputs": [],
   "source": [
    "# Load the sentences from test dataset\n",
    "df = pd.read_csv('test_data.csv')\n",
    "texts = df['1'].tolist()"
   ]
  },
  {
   "attachments": {},
   "cell_type": "markdown",
   "id": "c99bf1a1",
   "metadata": {},
   "source": [
    "### Trial functions\n",
    "functions used to send requests to app"
   ]
  },
  {
   "cell_type": "code",
   "execution_count": 13,
   "id": "f2598ac8",
   "metadata": {},
   "outputs": [
    {
     "data": {
      "text/plain": [
       "'[\"gratitude\", \"approval\", \"neutral\", \"neutral\", \"amusement\", \"approval\", \"neutral\", \"curiosity\", \"love\", \"gratitude\"]'"
      ]
     },
     "execution_count": 13,
     "metadata": {},
     "output_type": "execute_result"
    }
   ],
   "source": [
    "get_sentiments_list(texts[:10])"
   ]
  },
  {
   "attachments": {},
   "cell_type": "markdown",
   "id": "30ea7c05",
   "metadata": {},
   "source": [
    "### Concurrent Users testing"
   ]
  },
  {
   "attachments": {},
   "cell_type": "markdown",
   "id": "545acc93",
   "metadata": {},
   "source": [
    "For this test, we simulated concurrent users accessing the deployed service to evaluate its performance under realistic user scenarios. The response time and throughput were measured to assess user experience. The first test which sent 100 requests in parallel to 2 workers took 41.78 seconds – this is about 0.42 seconds per each request. This is an acceptable amount of time taken to generate an output from the app. Using ‘ThreadPoolExecutor’ and ‘ProcessPoolExecutor’ yielded similar results, and increasing the number of parallel workers up to 20 also did not affect the time taken per each request. The number of parallel workers that will be used by ‘ThreadPoolExecutor’ is limited by the hardware configuration of the machine that is hosting the application – mainly on the number of CPUs available to handle requests. \n",
    "\n",
    " Using ‘ThreadPoolExecutor’ and ‘ProcessPoolExecutor’ yielded similar results, and increasing the number of parallel workers up to 20 also did not affect the time taken per each request. The number of parallel workers that will be used by ‘ThreadPoolExecutor’ is limited by the hardware configuration of the machine that is hosting the application – mainly on the number of CPUs available to handle requests. \n",
    "\n",
    "The test results using different numbers of parallel request and total numbers of request are shown below: "
   ]
  },
  {
   "cell_type": "code",
   "execution_count": 14,
   "id": "bfa4be90",
   "metadata": {},
   "outputs": [],
   "source": [
    "# Function for concurrent users - getting outputs in parallel\n",
    "def get_sentiment_parallel(data, workers):\n",
    "\n",
    "    with ThreadPoolExecutor(max_workers=workers) as executor:\n",
    "        futures = []\n",
    "        for text in data:\n",
    "            future = executor.submit(get_sentiment, text)\n",
    "            futures.append(future)\n",
    "            \n",
    "        results = []\n",
    "        for future in concurrent.futures.as_completed(futures):\n",
    "            result = future.result()\n",
    "            results.append(result)\n",
    "    return results"
   ]
  },
  {
   "cell_type": "code",
   "execution_count": 15,
   "id": "b9eefbba",
   "metadata": {},
   "outputs": [],
   "source": [
    "def get_sentiment_parallel1(data, workers):\n",
    "\n",
    "    with ProcessPoolExecutor(max_workers=workers) as executor:\n",
    "        \n",
    "        future = executor.map(get_sentiment, data)\n",
    "        results= list(future)\n",
    "    return results"
   ]
  },
  {
   "cell_type": "code",
   "execution_count": 18,
   "id": "81f0b354",
   "metadata": {},
   "outputs": [
    {
     "name": "stdout",
     "output_type": "stream",
     "text": [
      "runtime for 100 requests with 2 parallel workers: \n",
      "41.78329825401306\n"
     ]
    }
   ],
   "source": [
    "starttime = time.time()\n",
    "numsentences = 100\n",
    "numworkers = 2\n",
    "get_sentiment_parallel(texts[:numsentences], numworkers)\n",
    "runtime = time.time() - starttime\n",
    "\n",
    "print(f'runtime for {numsentences} requests with {numworkers} parallel workers: ')\n",
    "print(runtime)"
   ]
  },
  {
   "cell_type": "code",
   "execution_count": 36,
   "id": "7133e9a9",
   "metadata": {},
   "outputs": [
    {
     "name": "stdout",
     "output_type": "stream",
     "text": [
      "runtime for 100 requests with 5 parallel workers: \n",
      "41.27588415145874\n"
     ]
    }
   ],
   "source": [
    "starttime = time.time()\n",
    "numsentences = 100\n",
    "numworkers = 5\n",
    "get_sentiment_parallel(texts[:numsentences], numworkers)\n",
    "runtime = time.time() - starttime\n",
    "\n",
    "print(f'runtime for {numsentences} requests with {numworkers} parallel workers: ')\n",
    "print(runtime)"
   ]
  },
  {
   "attachments": {},
   "cell_type": "markdown",
   "id": "a47a1d6a",
   "metadata": {},
   "source": [
    "0.42 secs per request"
   ]
  },
  {
   "cell_type": "code",
   "execution_count": 20,
   "id": "c81564a5",
   "metadata": {},
   "outputs": [
    {
     "name": "stdout",
     "output_type": "stream",
     "text": [
      "runtime for 100 requests with 10 parallel workers: \n",
      "42.67776656150818\n"
     ]
    }
   ],
   "source": [
    "starttime = time.time()\n",
    "numsentences = 100\n",
    "numworkers = 10\n",
    "get_sentiment_parallel(texts[:numsentences], numworkers)\n",
    "runtime = time.time() - starttime\n",
    "\n",
    "print(f'runtime for {numsentences} requests with {numworkers} parallel workers: ')\n",
    "print(runtime)"
   ]
  },
  {
   "cell_type": "code",
   "execution_count": 21,
   "id": "8c44b55e",
   "metadata": {},
   "outputs": [
    {
     "name": "stdout",
     "output_type": "stream",
     "text": [
      "runtime for 100 requests with 20 parallel workers: \n",
      "42.478466272354126\n"
     ]
    }
   ],
   "source": [
    "starttime = time.time()\n",
    "numsentences = 100\n",
    "numworkers = 20\n",
    "get_sentiment_parallel(texts[:numsentences], numworkers)\n",
    "runtime = time.time() - starttime\n",
    "\n",
    "print(f'runtime for {numsentences} requests with {numworkers} parallel workers: ')\n",
    "print(runtime)"
   ]
  },
  {
   "cell_type": "code",
   "execution_count": 22,
   "id": "05b33899",
   "metadata": {},
   "outputs": [
    {
     "name": "stdout",
     "output_type": "stream",
     "text": [
      "runtime for 100 requests with 20 parallel workers: \n",
      "42.20289349555969\n"
     ]
    }
   ],
   "source": [
    "starttime = time.time()\n",
    "numsentences = 100\n",
    "numworkers = 20\n",
    "get_sentiment_parallel1(texts[:numsentences], numworkers)\n",
    "runtime = time.time() - starttime\n",
    "\n",
    "print(f'runtime for {numsentences} requests with {numworkers} parallel workers: ')\n",
    "print(runtime)"
   ]
  },
  {
   "cell_type": "code",
   "execution_count": 23,
   "id": "ee2e427e",
   "metadata": {},
   "outputs": [
    {
     "name": "stdout",
     "output_type": "stream",
     "text": [
      "runtime for 1000 requests with 5 parallel workers: \n",
      "419.41624879837036\n"
     ]
    }
   ],
   "source": [
    "starttime = time.time()\n",
    "numsentences = 1000\n",
    "numworkers = 5\n",
    "get_sentiment_parallel(texts[:numsentences], numworkers)\n",
    "runtime = time.time() - starttime\n",
    "\n",
    "print(f'runtime for {numsentences} requests with {numworkers} parallel workers: ')\n",
    "print(runtime)"
   ]
  },
  {
   "attachments": {},
   "cell_type": "markdown",
   "id": "6af55c8f",
   "metadata": {},
   "source": [
    "0.419 secs per request"
   ]
  },
  {
   "cell_type": "code",
   "execution_count": 24,
   "id": "8bffe070",
   "metadata": {},
   "outputs": [
    {
     "name": "stdout",
     "output_type": "stream",
     "text": [
      "runtime for 2000 requests with 5 parallel workers: \n",
      "828.6388969421387\n"
     ]
    }
   ],
   "source": [
    "starttime = time.time()\n",
    "numsentences = 2000\n",
    "numworkers = 5\n",
    "get_sentiment_parallel(texts[:numsentences], numworkers)\n",
    "runtime = time.time() - starttime\n",
    "\n",
    "print(f'runtime for {numsentences} requests with {numworkers} parallel workers: ')\n",
    "print(runtime)"
   ]
  },
  {
   "attachments": {},
   "cell_type": "markdown",
   "id": "7c24e044",
   "metadata": {},
   "source": [
    "0.414 secs per request"
   ]
  },
  {
   "attachments": {},
   "cell_type": "markdown",
   "id": "7e9ac2b2",
   "metadata": {},
   "source": [
    "### Throughput\n",
    "\n",
    "The throughput measures the total number of requests the system can handle per second with the current architecture.\n",
    "\n",
    "For testing the throughput, we simulated a large number of requests and measured the response time of the app. The throughput can be calculated by dividing the number of successful requests by the total time taken. The results can help identify any performance bottlenecks or scalability issues in the app. Overall, the system can handle about 1.6 requests per second with the current architecture on a moderately powerful machine running Ubuntu. This is expected to change with the machine hosting the application. "
   ]
  },
  {
   "cell_type": "code",
   "execution_count": 25,
   "id": "9071a881",
   "metadata": {},
   "outputs": [],
   "source": [
    "def measure_throughput():\n",
    "    start_time = time.time()\n",
    "    for i in range(1000):\n",
    "        get_sentiment(texts[:1000])\n",
    "    end_time = time.time()\n",
    "    throughput = 1000 / (end_time - start_time)\n",
    "    return throughput"
   ]
  },
  {
   "cell_type": "code",
   "execution_count": 26,
   "id": "03ad4a7c",
   "metadata": {},
   "outputs": [
    {
     "name": "stdout",
     "output_type": "stream",
     "text": [
      "Throughput: 1.5700119529852363\n"
     ]
    }
   ],
   "source": [
    "throughput = measure_throughput()\n",
    "print(f\"Throughput: {throughput}\")"
   ]
  },
  {
   "attachments": {},
   "cell_type": "markdown",
   "id": "8ad2021c",
   "metadata": {},
   "source": [
    "### Memory management\n",
    "\n",
    "We evaluated the system's memory management capabilities to detect any memory leaks or inefficient memory usage that may lead to performance degradation or system failures over time. Memory management can be a complex task due to the many approaches being available. There is no one right way of taking care of memory of a system. We first observed the change in memory usage before and after sending the app 100 requests using a memory profiler. Two different functions were created for this which used different tools to measure the memory usage. Both times, the output showed that the system is using 0 MB of memory. This may be because the requests we are sending are short sentences and this does not really use a lot of memory. Heavier requests can be sent in the future, but we have the tools to identify memory leaks using these functions. \n",
    "\n",
    "Additionally, a memory profile decorator was added to the ‘/get_sentiment’ route of our app. This prints the memory usage per line of code for the app route to observe the memory allocation for various processes and get a better understanding of how the app behaves. To predict the emotion of an input text using the CNN model, we observed that a shorter sentence takes up slightly less memory than a longer sentence as expected. The application is not misbehaving here. However, it was also observed that upon restarting the application, the first request sent would allocate a significantly larger portion of memory to the same process. This can be kept in mind when considering redeploying the application after any updates. "
   ]
  },
  {
   "cell_type": "code",
   "execution_count": 27,
   "id": "53817402",
   "metadata": {},
   "outputs": [
    {
     "name": "stdout",
     "output_type": "stream",
     "text": [
      "Memory usage during request handling: 0.0 MiB\n"
     ]
    }
   ],
   "source": [
    "import requests\n",
    "import json\n",
    "from memory_profiler import memory_usage\n",
    "\n",
    "# Function to monitor memory usage during request handling\n",
    "def monitor_memory_usage():\n",
    "    # Start memory profiler\n",
    "    mem_usage_start = memory_usage()[0]\n",
    "\n",
    "    # Send request to Flask app\n",
    "    for i in range(100):\n",
    "        get_sentiment(texts[:100])\n",
    "\n",
    "    # End memory profiler\n",
    "    mem_usage_end = memory_usage()[0]\n",
    "\n",
    "    # Calculate memory usage during request handling\n",
    "    mem_usage_diff = mem_usage_end - mem_usage_start\n",
    "\n",
    "    # Print memory usage information\n",
    "    print(f\"Memory usage during request handling: {mem_usage_diff} MiB\")\n",
    "\n",
    "monitor_memory_usage()"
   ]
  },
  {
   "cell_type": "code",
   "execution_count": 88,
   "id": "ca43de8a",
   "metadata": {},
   "outputs": [
    {
     "name": "stdout",
     "output_type": "stream",
     "text": [
      "Memory usage during request handling: 0 MiB\n"
     ]
    }
   ],
   "source": [
    "import requests\n",
    "import json\n",
    "from memory_profiler import memory_usage\n",
    "import psutil \n",
    "\n",
    "# Function to monitor memory usage during request handling\n",
    "def measure_memory_usage():\n",
    "    notebook = psutil.Process()\n",
    "    start_mem = notebook.memory_info().rss\n",
    "    get_sentiments_list(texts[20:30])\n",
    "    mem_usage = notebook.memory_info().rss - start_mem\n",
    "    return mem_usage\n",
    "\n",
    "mem = measure_memory_usage()\n",
    "print(f\"Memory usage during request handling: {mem} MiB\")"
   ]
  },
  {
   "attachments": {},
   "cell_type": "markdown",
   "id": "3c0edd83",
   "metadata": {},
   "source": [
    "After using a memory profiler in app.py, observe the memory usage difference (from the terminal) upon sending requests of varying lengths\n",
    "The shorter input is allocated less memory as expected and the long input is assigned more."
   ]
  },
  {
   "cell_type": "code",
   "execution_count": 35,
   "id": "90cf09ac",
   "metadata": {},
   "outputs": [
    {
     "data": {
      "text/plain": [
       "'sadness'"
      ]
     },
     "execution_count": 35,
     "metadata": {},
     "output_type": "execute_result"
    }
   ],
   "source": [
    "get_sentiment(\"oh wow no wonder I am so tired after all the assignments are over.\")"
   ]
  },
  {
   "cell_type": "code",
   "execution_count": 33,
   "id": "65391a58",
   "metadata": {},
   "outputs": [
    {
     "data": {
      "text/plain": [
       "'approval'"
      ]
     },
     "execution_count": 33,
     "metadata": {},
     "output_type": "execute_result"
    }
   ],
   "source": [
    "get_sentiment(\"Happiness is not something that you can find outside of yourself. It is not something that you can buy, earn, or achieve. Happiness is a state of mind, a way of being, a choice that you make every day. Happiness is not dependent on your circumstances, your achievements, or your relationships. Happiness is something that you create within yourself, by choosing to focus on the positive aspects of your life, by expressing gratitude for what you have, by being kind to yourself and others, and by living in alignment with your values and purpose. Happiness is not a destination, but a journey. Happiness is not a fixed point, but a dynamic process. Happiness is not a one-time event, but a habit that you cultivate and practice. Happiness is not something that happens to you, but something that you make happen. Happiness is not something that you can find outside of yourself. It is not something that you can buy, earn, or achieve. Happiness is a state of mind, a way of being, a choice that you make every day. Happiness is not dependent on your circumstances, your achievements, or your relationships. Happiness is something that you create within yourself, by choosing to focus on the positive aspects of your life, by expressing gratitude for what you have, by being kind to yourself and others, and by living in alignment with your values and purpose. Happiness is not a destination, but a journey. Happiness is not a fixed point, but a dynamic process. Happiness is not a one-time event, but a habit that you cultivate and practice. Happiness is not something that happens to you, but something that you make happen. Happiness is not something that you can find outside of yourself. It is not something that you can buy, earn, or achieve. Happiness is a state of mind, a way of being, a choice that you make every day. Happiness is not dependent on your circumstances, your achievements, or your relationships. Happiness is something that you create within yourself, by choosing to focus on the positive aspects of your life, by expressing gratitude for what you have, by being kind to yourself and others, and by living in alignment with your values and purpose. Happiness is not a destination, but a journey. Happiness is not a fixed point, but a dynamic process. Happiness is not a one-time event, but a habit that you cultivate and practice. Happiness is not something that happens to you, but something that you make happen. Happiness is not something that you can find outside of yourself. It is not something that you can buy, earn, or achieve. Happiness is a state of mind, a way of being, a choice that you make every day. Happiness is not dependent on your circumstances, your achievements, or your relationships. Happiness is something that you create within yourself, by choosing to focus on the positive aspects of your life, by expressing gratitude for what you have, by being kind to yourself and others, and by living in alignment with your values and purpose. Happiness is not a destination, but a journey. Happiness is not a fixed point, but a dynamic process. Happiness is not a one-time event, but a habit that you cultivate and practice. Happiness is not something that happens to you, but something that you make happen.\")"
   ]
  },
  {
   "attachments": {},
   "cell_type": "markdown",
   "id": "27bec530",
   "metadata": {},
   "source": [
    "### Adversarial testing\n",
    "\n",
    "This is a test on the deployed model rather than on the app. A machine learning model can be deceived by an adversarial example, which is an input that has been intentionally modified to cause a wrong prediction. A special type of adversarial example is an adversarial perturbation, which is a small change applied to a valid input. Adversarial perturbations are different from adversarial examples that are created from scratch to mislead machine learning models. TextAttack is a tool that can generate adversarial perturbations for text inputs. There can be 2 types of adversarial attacks in NLP: \n",
    "\n",
    "1. Visually similar adversarial examples \n",
    "\n",
    "These are cases where the altered input text is visually almost like the original text with very small differences. This could be a typo too. This kind of adversarial attacks try to get a different output from the model after changing only some characters of the text \n",
    "\n",
    "2. Semantically similar adversarial examples \n",
    "\n",
    "This kind of adversarial attacks try to get a different output from an NLP model after replacing some words with their synonyms or paraphrasing sentences while preserving the underlying emotion. \n",
    "\n",
    "Some test results are shown below: "
   ]
  },
  {
   "attachments": {},
   "cell_type": "markdown",
   "id": "d727a1cb",
   "metadata": {},
   "source": [
    "Example from TextAttack"
   ]
  },
  {
   "cell_type": "code",
   "execution_count": 112,
   "id": "d3adefa2",
   "metadata": {},
   "outputs": [
    {
     "data": {
      "text/plain": [
       "'joy'"
      ]
     },
     "execution_count": 112,
     "metadata": {},
     "output_type": "execute_result"
    }
   ],
   "source": [
    "# original text\n",
    "get_sentiment(\"Connoisseurs of Chinese film will be pleased to discover that Tian's meticulous talent has not withered during his enforced hiatus.\")"
   ]
  },
  {
   "cell_type": "code",
   "execution_count": 133,
   "id": "69fe2f8d",
   "metadata": {},
   "outputs": [
    {
     "data": {
      "text/plain": [
       "'approval'"
      ]
     },
     "execution_count": 133,
     "metadata": {},
     "output_type": "execute_result"
    }
   ],
   "source": [
    "# Visually similar\n",
    "get_sentiment(\"Aonnoisseurs of Chinese film will be qleased to discover that Tian's meticulous talent has not withered during his enforced hiatus.\")"
   ]
  },
  {
   "cell_type": "code",
   "execution_count": 134,
   "id": "737adcb8",
   "metadata": {},
   "outputs": [
    {
     "data": {
      "text/plain": [
       "'approval'"
      ]
     },
     "execution_count": 134,
     "metadata": {},
     "output_type": "execute_result"
    }
   ],
   "source": [
    "# Semantically similar\n",
    "get_sentiment(\"Connoisseurs of Chinese footage will be pleased to find out that Tian's meticulous talent has not withered during his enforced hiatus.\")"
   ]
  },
  {
   "attachments": {},
   "cell_type": "markdown",
   "id": "381dfbd4",
   "metadata": {},
   "source": [
    "Here, the model provides a different output with both attacks. This displays poor adversarial robustness of the model. Next, we used an example from the test-data and tried to get varying outputs. "
   ]
  },
  {
   "attachments": {},
   "cell_type": "markdown",
   "id": "9a4e6893",
   "metadata": {},
   "source": [
    "Example from test dataset"
   ]
  },
  {
   "cell_type": "code",
   "execution_count": 122,
   "id": "b662c9cf",
   "metadata": {},
   "outputs": [
    {
     "data": {
      "text/plain": [
       "'sadness'"
      ]
     },
     "execution_count": 122,
     "metadata": {},
     "output_type": "execute_result"
    }
   ],
   "source": [
    "# original text\n",
    "get_sentiment(\"My grandparents were holocaust survivors. Seeing things like this and trying to comprehend the horrors that they had to endure really helps put my problems into perspective.\")"
   ]
  },
  {
   "cell_type": "code",
   "execution_count": 132,
   "id": "a56a68da",
   "metadata": {},
   "outputs": [
    {
     "data": {
      "text/plain": [
       "'anger'"
      ]
     },
     "execution_count": 132,
     "metadata": {},
     "output_type": "execute_result"
    }
   ],
   "source": [
    "# visually similar\n",
    "get_sentiment(\"My grandparents were holocaust curvivors. Seeing things like this and trying to comprehend the horrors that they had to endure really helps put my problems into perspective.\")"
   ]
  },
  {
   "cell_type": "code",
   "execution_count": 139,
   "id": "d57c4330",
   "metadata": {},
   "outputs": [
    {
     "data": {
      "text/plain": [
       "'sadness'"
      ]
     },
     "execution_count": 139,
     "metadata": {},
     "output_type": "execute_result"
    }
   ],
   "source": [
    "# semantically similar\n",
    "get_sentiment(\"My grandparents were genocide survivors. Seeing things like this and trying to understand the horrors that they had to go through makes my issues seem smaller\")"
   ]
  },
  {
   "attachments": {},
   "cell_type": "markdown",
   "id": "b85b6689",
   "metadata": {},
   "source": [
    "Again, the first attack gives a different output which is not favourable. However, for the semantically similar example, the model still predicted the correct emotion. "
   ]
  }
 ],
 "metadata": {
  "kernelspec": {
   "display_name": "Python 3 (ipykernel)",
   "language": "python",
   "name": "python3"
  },
  "language_info": {
   "codemirror_mode": {
    "name": "ipython",
    "version": 3
   },
   "file_extension": ".py",
   "mimetype": "text/x-python",
   "name": "python",
   "nbconvert_exporter": "python",
   "pygments_lexer": "ipython3",
   "version": "3.9.12"
  },
  "vscode": {
   "interpreter": {
    "hash": "916dbcbb3f70747c44a77c7bcd40155683ae19c65e1c03b4aa3499c5328201f1"
   }
  }
 },
 "nbformat": 4,
 "nbformat_minor": 5
}
